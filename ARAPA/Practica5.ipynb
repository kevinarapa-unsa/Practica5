{
 "cells": [
  {
   "cell_type": "markdown",
   "id": "06ed6928-f9bc-4908-aed7-87e773cc840b",
   "metadata": {},
   "source": [
    "# DESARROLLO"
   ]
  },
  {
   "cell_type": "markdown",
   "id": "c653d9e0-93c5-4080-9301-b44091049c7c",
   "metadata": {},
   "source": [
    "Hacer un programa que inprima la tabla del 3:"
   ]
  },
  {
   "cell_type": "code",
   "execution_count": 7,
   "id": "7c2d8fe1-4312-4d9d-a467-7c1102c74cec",
   "metadata": {},
   "outputs": [
    {
     "name": "stdout",
     "output_type": "stream",
     "text": [
      "tabla del numero 3\n",
      "3 X0 ==> 0\n",
      "3 X1 ==> 3\n",
      "3 X2 ==> 6\n",
      "3 X3 ==> 9\n",
      "3 X4 ==> 12\n",
      "3 X5 ==> 15\n",
      "3 X6 ==> 18\n",
      "3 X7 ==> 21\n",
      "3 X8 ==> 24\n",
      "3 X9 ==> 27\n",
      "3 X10 ==> 30\n",
      "fin de la tabla\n"
     ]
    }
   ],
   "source": [
    "#\"while\" inprimiendo tabla del numero 3\n",
    "contador = 0\n",
    "\n",
    "print(\"tabla del numero 3\")\n",
    "\n",
    "#bucle while \n",
    "\n",
    "while contador <=10:\n",
    "    print(f\"3 X{contador} ==> {contador*3}\")\n",
    "    contador +=1\n",
    "print (\"fin de la tabla\")\n"
   ]
  },
  {
   "cell_type": "markdown",
   "id": "0c320ef9-4861-4ef8-87da-24105aaa3896",
   "metadata": {},
   "source": [
    "hacer un programa que repita una frase las veces que se desee, use funciones"
   ]
  },
  {
   "cell_type": "code",
   "execution_count": 9,
   "id": "704211cd-53fa-444f-a3ab-cf1844f9165a",
   "metadata": {},
   "outputs": [
    {
     "name": "stdin",
     "output_type": "stream",
     "text": [
      "ingrese el numero de veces a repetir la frase: 5\n"
     ]
    },
    {
     "name": "stdout",
     "output_type": "stream",
     "text": [
      "debo aprobar computacion1\n",
      "debo aprobar computacion1\n",
      "debo aprobar computacion1\n",
      "debo aprobar computacion1\n",
      "debo aprobar computacion1\n"
     ]
    }
   ],
   "source": [
    "#frase a repetir\n",
    "frase = \"debo aprobar computacion1\"\n",
    "#contador\n",
    "cont = 0\n",
    "\n",
    "#funcion recibe n veces\n",
    "def repetir(n,cont):\n",
    "    while cont < n:\n",
    "        print(frase)\n",
    "        cont +=1\n",
    "num = int(input(\"ingrese el numero de veces a repetir la frase:\"))\n",
    "\n",
    "\n",
    "#llamar la funcion\n",
    "repetir(num,cont)"
   ]
  },
  {
   "cell_type": "markdown",
   "id": "f7ab51aa-1776-4234-bfc2-09a39b91c375",
   "metadata": {},
   "source": [
    "Hacer un programa que solicite una contraseña"
   ]
  },
  {
   "cell_type": "code",
   "execution_count": 17,
   "id": "05e6dc9d-1773-476c-b399-1cc2dfb68cf2",
   "metadata": {},
   "outputs": [
    {
     "name": "stdout",
     "output_type": "stream",
     "text": [
      "porfavor ingrese su contraseña\n"
     ]
    },
    {
     "name": "stdin",
     "output_type": "stream",
     "text": [
      " 12345\n"
     ]
    },
    {
     "name": "stdout",
     "output_type": "stream",
     "text": [
      "por fin.......\n"
     ]
    }
   ],
   "source": [
    "#ingrese password\n",
    "password = \" \"\n",
    "\n",
    "while password != \"12345\":\n",
    "    print (\"porfavor ingrese su contraseña\")\n",
    "    password = input()\n",
    "\n",
    "print ('por fin.......')"
   ]
  },
  {
   "cell_type": "markdown",
   "id": "65e612c1-8beb-4e4b-b8eb-85947c7a89ec",
   "metadata": {},
   "source": [
    "USO DE BREAK\n",
    "HACER UN PROGRAMA QUE VALIDE INGRESO DE NOMBRE ROSE"
   ]
  },
  {
   "cell_type": "code",
   "execution_count": null,
   "id": "a3209906-8159-4fb1-af7e-50dba6687bd3",
   "metadata": {},
   "outputs": [
    {
     "name": "stdout",
     "output_type": "stream",
     "text": [
      "porfavor ingrese su nombre\n"
     ]
    },
    {
     "name": "stdin",
     "output_type": "stream",
     "text": [
      " rose\n"
     ]
    },
    {
     "name": "stdout",
     "output_type": "stream",
     "text": [
      "porfavor ingrese su nombre\n"
     ]
    },
    {
     "name": "stdin",
     "output_type": "stream",
     "text": [
      " ROSE\n"
     ]
    },
    {
     "name": "stdout",
     "output_type": "stream",
     "text": [
      "porfavor ingrese su nombre\n"
     ]
    },
    {
     "name": "stdin",
     "output_type": "stream",
     "text": [
      " rose\n"
     ]
    },
    {
     "name": "stdout",
     "output_type": "stream",
     "text": [
      "porfavor ingrese su nombre\n"
     ]
    },
    {
     "name": "stdin",
     "output_type": "stream",
     "text": [
      " ROSE\n"
     ]
    },
    {
     "name": "stdout",
     "output_type": "stream",
     "text": [
      "porfavor ingrese su nombre\n"
     ]
    }
   ],
   "source": [
    "while True:\n",
    "    print ('porfavor ingrese su nombre:')\n",
    "    name = input()\n",
    "    if name.lower() == \"rose\":\n",
    "        break\n",
    "print ( 'hasta luego' )"
   ]
  },
  {
   "cell_type": "markdown",
   "id": "7be5af37-4eef-4869-8c43-c019ddf3d368",
   "metadata": {},
   "source": [
    "USO DE CONTINUE\n",
    "Hacer un programa que valide nombre y contraseña de dos listas respectivamente"
   ]
  },
  {
   "cell_type": "code",
   "execution_count": 1,
   "id": "484ff094-5a92-4f63-ada7-feb5c719e5c0",
   "metadata": {},
   "outputs": [
    {
     "name": "stderr",
     "output_type": "stream",
     "text": [
      "<>:14: SyntaxWarning: invalid escape sequence '\\B'\n",
      "<>:17: SyntaxWarning: invalid escape sequence '\\A'\n",
      "<>:14: SyntaxWarning: invalid escape sequence '\\B'\n",
      "<>:17: SyntaxWarning: invalid escape sequence '\\A'\n",
      "/tmp/ipykernel_2926/2340137184.py:14: SyntaxWarning: invalid escape sequence '\\B'\n",
      "  print ('n\\Bienvenido a su cuenta bancaria')\n",
      "/tmp/ipykernel_2926/2340137184.py:17: SyntaxWarning: invalid escape sequence '\\A'\n",
      "  print('n\\Acceso denegado')\n"
     ]
    },
    {
     "name": "stdin",
     "output_type": "stream",
     "text": [
      "ingrese su nombre porfavor:  kevin\n",
      "ingrese su nombre porfavor:  123456\n",
      "ingrese su nombre porfavor:  luis\n"
     ]
    },
    {
     "name": "stdout",
     "output_type": "stream",
     "text": [
      "\n",
      "Hola Luis, porfavor ingrese su contraseña: \n"
     ]
    },
    {
     "name": "stdin",
     "output_type": "stream",
     "text": [
      " 4321\n"
     ]
    },
    {
     "name": "stdout",
     "output_type": "stream",
     "text": [
      "n\\Bienvenido a su cuenta bancaria\n"
     ]
    }
   ],
   "source": [
    "#listas de nombres y  numeros\n",
    "nombre = [\"juan\", \"pedro\", \"luis\", \"fatima\", \"vladi\"]\n",
    "contra = [ '1234', '4321', 'abcd', 'dcba', '4567' ]\n",
    "\n",
    "#while\n",
    "\n",
    "while True:\n",
    "    name = input(\"ingrese su nombre porfavor: \")\n",
    "    if name not in nombre:\n",
    "        continue\n",
    "    print(f'\\nHola {name.title()}, porfavor ingrese su contraseña: ')\n",
    "    password = input()\n",
    "    if password in contra:\n",
    "        print ('n\\Bienvenido a su cuenta bancaria')\n",
    "        break\n",
    "    else:\n",
    "        print('n\\Acceso denegado')\n",
    "        break\n",
    "        "
   ]
  },
  {
   "cell_type": "markdown",
   "id": "d94bdf91-51c9-401d-ab4c-87e00035d6ca",
   "metadata": {},
   "source": [
    "# EJEMPLOS\n"
   ]
  },
  {
   "cell_type": "code",
   "execution_count": null,
   "id": "22d00bf3-9384-44ba-9142-efc54b7d91e0",
   "metadata": {},
   "outputs": [],
   "source": [
    "#Hacer un programa que busque el número 2 dentro de una lista de Números,\n",
    "si se encuentra, que imprima el indice dentro de la lista:"
   ]
  },
  {
   "cell_type": "code",
   "execution_count": null,
   "id": "0fe9492a-3d34-47e7-8dde-e941c2961a8b",
   "metadata": {},
   "outputs": [],
   "source": [
    "valores = [5, 1, 9, 2, 7, 4]\n",
    "encontrado = False\n",
    "indice = 0\n",
    "longitud = len(valores)\n",
    "while not encontrado and indice < longitud:\n",
    "    valor = valores[indice]\n",
    "if valor == 2:\n",
    "    encontrado = True\n",
    "else:\n",
    "    indice += 1\n",
    "if encontrado:\n",
    "    print(f'El número 2 ha sido encontrado en el índice {indice}')\n",
    "else:\n",
    "    print('El número 2 no se encuentra en la lista de valores')"
   ]
  },
  {
   "cell_type": "code",
   "execution_count": null,
   "id": "c7f4f95d-f343-44e9-935b-e5f45dfa1c08",
   "metadata": {},
   "outputs": [],
   "source": [
    "#Hacer un programa que solicite ingreso de contraseña con intentos limitados:\n",
    "\n",
    "password = ''\n",
    "\n",
    "#sino tengo contador while True:\n",
    "\n",
    "cont = 0\n",
    "while password != '12345':\n",
    "    cont +=1\n",
    "    print('Por favor ingrese su contraseña: ')\n",
    "    password = input()\n",
    "    if cont == 5:\n",
    "    print('Finalizo los intentos...!')\n",
    "    break\n",
    "if cont !=5:\n",
    "    print('Por fin...!')"
   ]
  },
  {
   "cell_type": "code",
   "execution_count": null,
   "id": "51298938-e9ce-4390-b487-4734d81153e7",
   "metadata": {},
   "outputs": [],
   "source": [
    "#Hacer un programa con función que cuenta el número de dígitos que son 0 o 5 o un entero positivo\n",
    "\n",
    "#Creamos la función\n",
    "def num_digi(n):\n",
    "    count = 0\n",
    "    while n > 0:\n",
    "        digit = n % 10\n",
    "        if digit == 0 or digit == 5:\n",
    "            count = count + 1\n",
    "        n = n // 10\n",
    "    return count\n",
    "#solicitamos numero\n",
    "num = int(input('Ingrese un numero que contenga los digitos \"0\" y \"5\" : ==> '))\n",
    "\n",
    "#Asignamos la cantidad que retorna\n",
    "cantidad = num_digi(num)\n",
    "\n",
    "#imprimir resultado\n",
    "print('\\n\\n\\tLa cantidad de digitos \"0\" y \"5\" en el numero ',num,'es: ==>',cantidad)\n"
   ]
  },
  {
   "cell_type": "code",
   "execution_count": null,
   "id": "7deb63b6-6201-4ea3-bf9e-0925f07d36af",
   "metadata": {},
   "outputs": [],
   "source": []
  }
 ],
 "metadata": {
  "kernelspec": {
   "display_name": "Python 3 (ipykernel)",
   "language": "python",
   "name": "python3"
  },
  "language_info": {
   "codemirror_mode": {
    "name": "ipython",
    "version": 3
   },
   "file_extension": ".py",
   "mimetype": "text/x-python",
   "name": "python",
   "nbconvert_exporter": "python",
   "pygments_lexer": "ipython3",
   "version": "3.12.4"
  }
 },
 "nbformat": 4,
 "nbformat_minor": 5
}
